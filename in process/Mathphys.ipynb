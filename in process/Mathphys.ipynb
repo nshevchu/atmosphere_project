{
 "cells": [
  {
   "cell_type": "code",
   "execution_count": 1,
   "id": "4cbe2e36",
   "metadata": {},
   "outputs": [
    {
     "name": "stderr",
     "output_type": "stream",
     "text": [
      "usage: jt [-h] [-l] [-t THEME] [-f MONOFONT] [-fs MONOSIZE] [-nf NBFONT]\n",
      "          [-nfs NBFONTSIZE] [-tf TCFONT] [-tfs TCFONTSIZE] [-dfs DFFONTSIZE]\n",
      "          [-ofs OUTFONTSIZE] [-mathfs MATHFONTSIZE] [-m MARGINS]\n",
      "          [-cursw CURSORWIDTH] [-cursc CURSORCOLOR] [-cellw CELLWIDTH]\n",
      "          [-lineh LINEHEIGHT] [-altp] [-altmd] [-altout] [-P] [-T] [-N] [-kl]\n",
      "          [-vim] [-r] [-dfonts]\n",
      "jt: error: unrecognized arguments: oceans16\n"
     ]
    }
   ],
   "source": [
    "!jt -t THEME oceans16"
   ]
  },
  {
   "cell_type": "markdown",
   "id": "7ace8a57",
   "metadata": {},
   "source": [
    "Приведение уравнения в частных производных к каноническому виду"
   ]
  },
  {
   "cell_type": "code",
   "execution_count": null,
   "id": "b77eca50",
   "metadata": {},
   "outputs": [],
   "source": []
  },
  {
   "cell_type": "markdown",
   "id": "68f5b3e8",
   "metadata": {},
   "source": [
    "Если рассматривать уравнение в частных производных (обычно порядок старших производных не больше двух и уравнение относительно вторых производных линейны), то в общем виде уравнение это можно записать в таком виде:\n",
    "\n",
    "$$a\\left(x,y\\right)U_{xx} + 2b\\left(x,y\\right)U_{xy} + c\\left(x,y\\right)U_{yy} + \\underbrace{ F\\left(x,y, U, \\nabla U\\right)}_{\\text{линейная или нелинейная относительно производных U}} = 0$$\n",
    "\n",
    "Функции $a\\left(x,y\\right)$, $b\\left(x,y\\right)$, $c\\left(x,y\\right)$ и $F\\left(x,y, U, \\nabla U\\right)$ считаются известными.\n",
    "Если $F\\left(x,y, U, \\nabla U\\right)$ нелинейна относительно $U$ и $\\nabla U$, то такое уравнение называют **квазилинейным**.\n",
    "\n",
    "Чтобы с этим уравнением было бы удобно работать (использовать уже разработанные способы для того типа, к которому это уравнение принадлежит) была разработана методика приведения уравнения к каноническому виду.\n",
    "\n",
    "Делается замена переменных и вводятся функции: \n",
    "\n",
    "$$\\xi=\\xi\\left(x,y\\right)$$\n",
    "\n",
    "$$\\eta=\\eta\\left(x,y\\right)$$\n",
    "Эти функции должны быть гладкие (хотя бы дважды дифференцируемы) и чтобы эта замена была обратимой. Для этого нужно чтобы якобиан был отличен от нуля:\n",
    "\n",
    "$$\\begin{vmatrix}\n",
    "\\xi_x & \\xi_y \\\\\n",
    "\\eta_x & \\eta_y\n",
    "\\end{vmatrix} \\neq 0$$\n",
    "\n",
    "Если это выполняется, то можно обратно выразить $x$ и $y$ через $\\xi$ и $\\eta$, это пригодится:\n",
    "$$x=x\\left(\\xi,\\eta\\right)$$\n",
    "\n",
    "$$y=y\\left(\\xi,\\eta\\right)$$\n",
    "\n",
    "$\\xi$ и $\\eta$ мы по сути выбираем сами, но было бы очень неплохо, чтобы этот выбор нам действительно облегчил жизнь. Выберать будем так, чтобы стремиться занулить 2 из трех функций $a\\left(x,y\\right)$, $b\\left(x,y\\right)$ или $c\\left(x,y\\right)$  (или хотя бы одну).\n",
    "\n",
    "Ну а теперь попробуем перейти в нашем уравнении от \"координат\" $\\left(x,y\\right)$ к $\\left(\\xi,\\eta\\right)$. Для этого правда сначала нужно высчитать производные от $U$ по $x$ и $y$ через $\\xi$ и $\\eta$ с помощью правил дифференцирования сложной функции: \n",
    "\n",
    "$$U_{x}=U_{\\xi}\\xi_{x}+U_{\\eta}\\eta_{x}$$\n",
    "$$U_{y}=U_{\\xi}\\xi_{y}+U_{\\eta}\\eta_{y}$$\n",
    "\n",
    "Ну или в общем случае оператор дифференцирования по $x$ и $y$:\n",
    "$$\\frac{\\partial}{\\partial x}=\\xi_{x}\\frac{\\partial}{\\partial \\xi}+\\eta_{x}\\frac{\\partial}{\\partial \\eta}$$\n",
    "$$\\frac{\\partial}{\\partial y}=\\xi_{y}\\frac{\\partial}{\\partial \\xi}+\\eta_{y}\\frac{\\partial}{\\partial \\eta}$$\n",
    "\n",
    "А теперь вторые производные $U_{xx}$:\n",
    "$$U_{xx}=\\frac{\\partial}{\\partial x}U_{x}=\\frac{\\partial}{\\partial x} \\left(U_{\\xi}\\xi_{x}+U_{\\eta}\\eta_{x}\\right)=\\overbrace{U_{\\xi}\\xi_{xx}+U_{\\eta}\\eta_{xx}}^{\\text{тут только первые производные от U}} + \\xi_{x}\\frac{\\partial}{\\partial x}U_{\\xi} + \\eta_{x}\\frac{\\partial}{\\partial x}U_{\\eta} = U_{\\xi}\\xi_{xx}+U_{\\eta}\\eta_{xx} + \\xi_{x}\\xi_{x}U_{\\xi\\xi}+\\xi_{x}\\eta_{x}U_{\\eta\\xi} +\\eta_{x}\\xi_{x}U_{\\xi\\eta}+\\eta_{x}\\eta_{x}U_{\\eta\\eta} $$\n",
    "\n",
    "А теперь вторые производные $U_{xy}$:\n",
    "$$U_{xx}=\\frac{\\partial}{\\partial x}U_{x}=\\frac{\\partial}{\\partial x} \\left(U_{\\xi}\\xi_{x}+U_{\\eta}\\eta_{x}\\right)=\\overbrace{U_{\\xi}\\xi_{xx}+U_{\\eta}\\eta_{xx}}^{\\text{тут только первые производные от U}} + \\xi_{x}\\frac{\\partial}{\\partial x}U_{\\xi} + \\eta_{x}\\frac{\\partial}{\\partial x}U_{\\eta} = U_{\\xi}\\xi_{xx}+U_{\\eta}\\eta_{xx} + \\xi_{x}\\xi_{x}U_{\\xi\\xi}+\\xi_{x}\\eta_{x}U_{\\eta\\xi} +\\eta_{x}\\xi_{x}U_{\\xi\\eta}+\\eta_{x}\\eta_{x}U_{\\eta\\eta} $$.........\n"
   ]
  },
  {
   "cell_type": "code",
   "execution_count": null,
   "id": "f1aea1e2",
   "metadata": {},
   "outputs": [],
   "source": []
  },
  {
   "cell_type": "markdown",
   "id": "0cdb534d",
   "metadata": {},
   "source": [
    "http://fkn.ktu10.com/?q=node/5654 про индексы\n",
    "http://fsweb.info/latex/math_arrays_matrices.html про матрицы"
   ]
  },
  {
   "cell_type": "code",
   "execution_count": null,
   "id": "2dfb9f38",
   "metadata": {},
   "outputs": [],
   "source": []
  },
  {
   "cell_type": "markdown",
   "id": "4488c52d",
   "metadata": {},
   "source": [
    "$$c = \\sqrt{a^2 + b^2}$$\n",
    "$$ \\frac{k^2 + n^2}{\\omega} = 1$$\n",
    "\\begin{equation}\\label{1}\n",
    "f(x) = \\frac{A_0}{2} + \\sum \\limits_{n=1}^{\\infty} A_n \\cos \\left( \\frac{2 n \\pi x}{\\nu} - \\alpha_n \\right) \n",
    "\\end{equation}\n",
    "\n",
    "$$\\mathop{\\nabla}_{x}$$\n",
    "\n",
    "$$A\\left/ B^{\\frac{C}{D}}\\right/$$\n",
    "\n",
    "![title](img/питон_декоратор.jpg)\n",
    "\n",
    "![title](img/Untitled-4.png)\n",
    "\n",
    "$$\\mathop{\\nabla}_{x}$$\n"
   ]
  },
  {
   "cell_type": "markdown",
   "id": "2be93a68",
   "metadata": {},
   "source": [
    "\\begin{eqnarray} S_{\\text{вых}}(x_2, y_2) = \\iint dx_0 dy_0 A_0 g(x_0, y_0) \\cdot h(x_2-x_0, y_2 -y_0) = \\\\\n",
    " = A_0 \\underbrace{\\iint dx_0 dy_0 \\; g(x_0, y_0) \n",
    "\\cdot h(x_2-x_0, y_2 -y_0)}_{\\text{по определению это есть свёртка }} = A_0 g \\otimes h \n",
    "\\end{eqnarray}\n"
   ]
  },
  {
   "cell_type": "markdown",
   "id": "688db2da",
   "metadata": {},
   "source": [
    "(\\ref{1})"
   ]
  },
  {
   "cell_type": "markdown",
   "id": "8c0a791c",
   "metadata": {},
   "source": [
    "\\begin{equation}\\label{eq:visc_to_inertia}\n",
    "f(x) = \\frac{\\mu \\nabla^{2}u}{\\rho \\left(Du\\left/\\!Dt\\right.\\right)} = \\frac{\\mu\\left(k^2 + n^2\\right)u }{\\rho\\omega u} = \\frac{\\nu\\left(k^2 + n^2\\right)}{\\omega} = \\frac{\\nu\\left(k^2 + n^2\\right)^{1/2}}{\\omega\\left/\\left(k^2 + n^2\\right)^{1/2}\\right. }\n",
    "\\end{equation}\n",
    "\n",
    "$$\\nu\\equiv\\frac{\\mu}{\\rho}$$\n",
    "\n",
    "\n",
    "\n",
    "$$ \\frac{k^2 + n^2}{\\omega} = 1$$"
   ]
  }
 ],
 "metadata": {
  "kernelspec": {
   "display_name": "venv_atmosphere",
   "language": "python",
   "name": "venv_atmosphere"
  },
  "language_info": {
   "codemirror_mode": {
    "name": "ipython",
    "version": 3
   },
   "file_extension": ".py",
   "mimetype": "text/x-python",
   "name": "python",
   "nbconvert_exporter": "python",
   "pygments_lexer": "ipython3",
   "version": "3.8.10"
  }
 },
 "nbformat": 4,
 "nbformat_minor": 5
}
