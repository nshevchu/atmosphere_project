{
 "cells": [
  {
   "cell_type": "markdown",
   "metadata": {},
   "source": [
    "# Как открыть и прочитать данные из бинарных файлов?\n",
    "\n",
    "Иногда приходится работать с бинарными или двоичными файлами. В файле могут содержаться данные как одной так и нескольких переменных, которые зависят от широты, долготы, высоты и времени. \n",
    "Их отличие от nc файлов, что в файле не хранится дополнительная информация о форме массива. В этом случае нужно уточнять у создателя данного файла в какой форме сохранялись данные. \n",
    "\n",
    "Например - 'phi.dx' - в файле хранятся данные о геопотенциальной высоте\n",
    "- разрешение по долготе - 5.625 (Nlon = 64)\n",
    "- разрешение по широте - 5 (Nlat = 36)\n",
    "- разрешение по высоте - 2.8 (Nlev = 56)\n",
    "- по времени - 2 часа (Ntime = 1200)\n",
    "\n",
    "По этой ссылке можно получить дополнительную информацию о примерах работы с бинарными файлами.\n",
    "https://www.bestprog.net/ru/2020/04/30/python-binary-files-examples-of-working-with-binary-files-ru/#q01\n",
    "\n",
    "Моя задача, показать как работать с многомерными массивами, с которыми нам часто приходится иметь дело при анализе и визуализации. \n"
   ]
  },
  {
   "cell_type": "code",
   "execution_count": 2,
   "metadata": {},
   "outputs": [
    {
     "name": "stdout",
     "output_type": "stream",
     "text": [
      "(1200, 56, 36, 64)\n"
     ]
    }
   ],
   "source": [
    "import numpy as np\n",
    "\n",
    "#импортируем модуль array для работы с массивами\n",
    "import array\n",
    "\n",
    "# Открыть бинарный файл для чтения\n",
    "fileobj = open('phi.dx', mode='rb')\n",
    "\n",
    "# Параметры пространственной сетки\n",
    "Nlon = 64\n",
    "Nlat = 36\n",
    "Nlev = 56\n",
    "\n",
    "# Количество точек по времени\n",
    "Ntime = 1200\n",
    "\n",
    "# Создаем пустой массив с определенным типом данных 'f'- вещественное число, выделено 4 байта для записи числа\n",
    "binvalues = array.array('f')\n",
    "\n",
    "# Читаем Nlon*Nlat*Nlev*Ntime количество значений из файла 'fileobj'\n",
    "# и добавляем их в конец пустого массива binvalues. Если  в файле хранится меньше чем Nlon*Nlat*Nlev*Ntime\n",
    "# значений, то возникнет ошибка EOFError, но при этом в массив запишется распологаемое количество элементов.\n",
    "binvalues.fromfile(fileobj, Nlon*Nlat*Nlev*Ntime)\n",
    "\n",
    "# binvalues представляет собой список значений длинной Nlon*Nlat*Nlev*Ntime\n",
    "# создадим numpy array из этого списка \n",
    "var_array_flat = np.array(binvalues, float)\n",
    "\n",
    "# преобразуем его в 4-х мерный массив\n",
    "# ФОРМА var_array_4d будет зависеть от ФОРМЫ записи сохраненных данных в файле phi.dx \n",
    "# Я знаю, что данные были записаны в такой форме (Nlon,Nlat,Nlev) в цикле по времени.\n",
    "# Чтобы корректно их преобразовать нужно передать размерности в следующей последовательности (Ntime, Nlev, Nlat, Nlon)\n",
    "var_array_4d = np.reshape(var_array_flat, (Ntime, Nlev, Nlat, Nlon))\n",
    "\n",
    "#закрываем файл\n",
    "fileobj.close()\n",
    "print(var_array_4d.shape)\n"
   ]
  },
  {
   "cell_type": "code",
   "execution_count": null,
   "metadata": {},
   "outputs": [],
   "source": []
  }
 ],
 "metadata": {
  "kernelspec": {
   "display_name": "Python 3",
   "language": "python",
   "name": "python3"
  },
  "language_info": {
   "codemirror_mode": {
    "name": "ipython",
    "version": 3
   },
   "file_extension": ".py",
   "mimetype": "text/x-python",
   "name": "python",
   "nbconvert_exporter": "python",
   "pygments_lexer": "ipython3",
   "version": "3.8.10"
  }
 },
 "nbformat": 4,
 "nbformat_minor": 4
}
