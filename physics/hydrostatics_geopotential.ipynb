{
 "cells": [
  {
   "cell_type": "markdown",
   "id": "4488c52d",
   "metadata": {},
   "source": [
    "Preface:\n",
    "Данный файлик создан с целью проиллюстрировать, что уравнение гидростатики может быть записано не только через производную давления по высоте, но также и как производная геопотенциала. \\\n",
    "В таком виде уравнение гидростатики предстает н-р в книжке \"Middle Atmosphere Dynamics\" Andrews (1987):\n",
    "$$\\frac{d\\Phi}{dz}=\\frac{R}{H} \\Theta \\exp{\\frac{-\\kappa z}{H}}$$\n",
    "Вот и стало интересно, как это выражение следует из привычного уравнения гидростатики \n",
    "$$\\frac{\\partial p}{\\partial z} = -\\rho \\cdot g$$"
   ]
  },
  {
   "cell_type": "markdown",
   "id": "c00a6687",
   "metadata": {},
   "source": [
    "ПОЕХАЛИ:\\\n",
    "\\\n",
    "Уравнение гидростатики выглядит таким образом (будем пока считать это очевидным): \n",
    "$$\\frac{\\partial p}{\\partial z} = -\\rho \\cdot g$$\n",
    "Уравнение для геопотенциала $\\Phi$ по определению записывается следующим образом: \n",
    "$$\\Phi=\\int g\\,dz$$\n",
    "Соответственно дифференциал геопотенциала такой:\n",
    "$$d\\Phi=gdz$$\n",
    "А из уравнения гидростатики следует что дифференциал давления такой:\n",
    "$$dp= -\\rho gdz$$\n",
    "Если их сравнить, то видно, что \n",
    "$$d\\Phi=-\\frac{dp}{\\rho}$$\n",
    "или\n",
    "$$\\frac{d\\Phi}{dp}=-\\frac{1}{\\rho}=-\\frac{RT}{p}$$\n",
    "так как $\\frac{dp}{p}=d\\ln{p}$, то\n",
    "$$\\frac{d\\Phi}{d\\ln{p}}=-RT$$\n",
    "\n",
    "из вида зависимости давления от высоты \n",
    "$$p=p_s \\cdot \\exp{\\frac{-z}{H}}$$\n",
    "следует, что\n",
    "$$ z = -H \\ln{\\frac{p}{p_s}}$$\n",
    "$$ \\frac{z}{H} = -\\ln{p}+\\ln{p_s}$$\n",
    "$$ \\frac{dz}{H} = -d\\ln{p}$$\n",
    "Для геопотенциала будет выполняться\n",
    "$$\\frac{d\\Phi}{d\\ln{p}}=\\frac{d\\Phi}{-\\frac{dz}{H}}=-H \\cdot \\frac{d\\Phi}{dz}=-RT$$\n",
    "$$\\frac{d\\Phi}{dz}=\\frac{RT}{H}$$\n",
    "\n",
    "а из определения потенциальной температуры $\\Theta$ следует, что для T выполняется:\n",
    "$$\\frac{R}{C_p}=\\kappa$$ \n",
    "$$T=\\Theta \\left(\\frac{p}{p_s}\\right)^\\frac{R}{C_p}$$\n",
    "Если вспомнить уравнение давления от высоты:\n",
    "$$T=\\Theta \\left(\\exp{\\frac{-z}{H}}\\right)^\\kappa=\\Theta \\exp{\\frac{-\\kappa z}{H}}$$\n",
    "\n",
    "Поэтому уравнение гидростатики для геопотенциала принимает вид\n",
    "$$\\frac{d\\Phi}{dz}=\\frac{R}{H} \\Theta \\exp{\\frac{-\\kappa z}{H}}$$\n",
    "\n",
    "\n",
    "\n"
   ]
  }
 ],
 "metadata": {
  "interpreter": {
   "hash": "c396360d0c92f5c1f6adb6dbb68b94c03c4169cb2f6bcee98d414850420ded4b"
  },
  "kernelspec": {
   "display_name": "venv_atmosphere",
   "language": "python",
   "name": "python3"
  },
  "language_info": {
   "codemirror_mode": {
    "name": "ipython",
    "version": 3
   },
   "file_extension": ".py",
   "mimetype": "text/x-python",
   "name": "python",
   "nbconvert_exporter": "python",
   "pygments_lexer": "ipython3",
   "version": "3.7.9"
  }
 },
 "nbformat": 4,
 "nbformat_minor": 5
}
