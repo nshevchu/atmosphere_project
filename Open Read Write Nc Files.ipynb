{
 "cells": [
  {
   "cell_type": "markdown",
   "metadata": {},
   "source": [
    "# Как работать с nc файлами?\n",
    "\n",
    "## Чтение из файла:\n",
    "**nc** - это формат файла для хранения многомерных метеорологических величин.\n",
    "\n",
    "Помимо метеорологических данных в пс файле записана дополнительная информация:\n",
    "- форма массива, которая может зависеть от широты, долготы, высоты и  времени.\n",
    "- сами массивы значений широт, долгот, высот и  времени, которые удобно использовать при визуализации данных\n",
    "- единицы измерения всех параметров\n",
    "\n",
    "**netCDF4** -  специальный модуль для работы с файлами nc типа."
   ]
  },
  {
   "cell_type": "code",
   "execution_count": 16,
   "metadata": {},
   "outputs": [
    {
     "name": "stdout",
     "output_type": "stream",
     "text": [
      "{'lon': <class 'netCDF4._netCDF4.Variable'>\n",
      "float64 lon(lon)\n",
      "    standard_name: longitude\n",
      "    long_name: longitude\n",
      "    units: degrees_east\n",
      "    axis: X\n",
      "unlimited dimensions: \n",
      "current shape = (1,)\n",
      "filling on, default _FillValue of 9.969209968386869e+36 used, 'lat': <class 'netCDF4._netCDF4.Variable'>\n",
      "float64 lat(lat)\n",
      "    standard_name: latitude\n",
      "    long_name: latitude\n",
      "    units: degrees_north\n",
      "    axis: Y\n",
      "unlimited dimensions: \n",
      "current shape = (36,)\n",
      "filling on, default _FillValue of 9.969209968386869e+36 used, 'lev': <class 'netCDF4._netCDF4.Variable'>\n",
      "float64 lev(lev)\n",
      "    long_name: generic\n",
      "    units: level\n",
      "    axis: Z\n",
      "unlimited dimensions: \n",
      "current shape = (17,)\n",
      "filling on, default _FillValue of 9.969209968386869e+36 used, 'time': <class 'netCDF4._netCDF4.Variable'>\n",
      "float64 time(time)\n",
      "    standard_name: time\n",
      "    units: hours since 1958-1-1 00:00:00\n",
      "    calendar: standard\n",
      "    axis: T\n",
      "unlimited dimensions: time\n",
      "current shape = (744,)\n",
      "filling on, default _FillValue of 9.969209968386869e+36 used, 'uzon': <class 'netCDF4._netCDF4.Variable'>\n",
      "float32 uzon(time, lev, lat, lon)\n",
      "    long_name: variables\n",
      "    _FillValue: 2e+20\n",
      "    missing_value: 2e+20\n",
      "unlimited dimensions: time\n",
      "current shape = (744, 17, 36, 1)\n",
      "filling on}\n"
     ]
    }
   ],
   "source": [
    "# из модуля импортируем Dataset\n",
    "from netCDF4 import Dataset\n",
    "\n",
    "# создаем объект класса Dataset, в качестве аргумента передаем имя файла, открываем в режиме (mode) чтения ('r')\n",
    "# режим чтения можно не прописывать, т.к. он уже установлен по умолчанию.\n",
    "nc = Dataset('Uzon_month_1958_2019_jra.nc', mode = 'r')\n",
    "\n",
    "# теперь nc это объект/контейнер в котором содержится информация о многомерном массиве, \n",
    "# в частности о его размерности, название координатных осей, форма массива и т.д.\n",
    "\n",
    "# получить доступ к информации, что содержится в nc можно с помощью variables\n",
    "print(nc.variables)"
   ]
  },
  {
   "cell_type": "markdown",
   "metadata": {},
   "source": [
    "## Что записано в содержание файла?\n",
    "**название переменной** -->  'lat': <class 'netCDF4._netCDF4.Variable'>\n",
    "\n",
    "    float64 lat(lat)\n",
    "    standard_name: latitude   \n",
    "    long_name: latitude\n",
    "    units: degrees_north\n",
    "    axis: Y\n",
    "    unlimited dimensions: \n",
    "    current shape = (36,) <--- **форма**\n",
    "\n",
    "Обращаем внимание на имя переменной, которое записано в кавычках -'lat' и ее длину/форму - 36 точек по оси широт. Имя переменной необходимо для создания массива широтных координат(т.е на каких широтах представлены данные)  "
   ]
  },
  {
   "cell_type": "code",
   "execution_count": 17,
   "metadata": {},
   "outputs": [
    {
     "name": "stdout",
     "output_type": "stream",
     "text": [
      "[-87.5 -82.5 -77.5 -72.5 -67.5 -62.5 -57.5 -52.5 -47.5 -42.5 -37.5 -32.5\n",
      " -27.5 -22.5 -17.5 -12.5  -7.5  -2.5   2.5   7.5  12.5  17.5  22.5  27.5\n",
      "  32.5  37.5  42.5  47.5  52.5  57.5  62.5  67.5  72.5  77.5  82.5  87.5]\n"
     ]
    }
   ],
   "source": [
    "#импортируем numpy\n",
    "import numpy as np\n",
    "\n",
    "#  создаем переменную lat\n",
    "lat = np.array(nc['lat'])\n",
    "print(lat)"
   ]
  },
  {
   "cell_type": "code",
   "execution_count": 18,
   "metadata": {},
   "outputs": [],
   "source": [
    "# аналогично для 'lev' и 'time' \n",
    "# высотные уровни\n",
    "lev = np.array(nc['lev']),\n",
    "\n",
    "# временная шкала\n",
    "time = np.array(nc['time'])\n"
   ]
  },
  {
   "cell_type": "markdown",
   "metadata": {},
   "source": [
    "    'uzon': <class 'netCDF4._netCDF4.Variable'>\n",
    "    float32 uzon(time, lev, lat, lon)\n",
    "    long_name: variables\n",
    "    _FillValue: 2e+20\n",
    "    missing_value: 2e+20\n",
    "    unlimited dimensions: time\n",
    "    current shape = (744, 17, 36, 1)\n",
    "    filling on}\n",
    "\n",
    "**'uzon' - название переменной, и ее форма (744, 17, 36, 1), в такой очередности записаны размерности (time, lev, lat, lon)**\n"
   ]
  },
  {
   "cell_type": "code",
   "execution_count": 19,
   "metadata": {},
   "outputs": [],
   "source": [
    "# создаем переменную data, в которую записываем массив значений зональной скорости ветра.\n",
    "data = np.array(nc['uzon'])\n",
    "\n",
    "# закрываем файл\n",
    "nc.close()\n"
   ]
  },
  {
   "cell_type": "markdown",
   "metadata": {},
   "source": [
    "## Запись в файл:\n",
    "\n",
    "Кроме значений метеовеличины nc файл должен быть дополнен кратким содержанием:\n",
    "- что записано в файл,  в какой форме, название переменных, единицы измерения и т.д.\n",
    "\n",
    "### Первый шаг -  нужно заполнить данную важную информацию созданием аттрибутов, размерностей и переменных!!!"
   ]
  },
  {
   "cell_type": "code",
   "execution_count": 20,
   "metadata": {},
   "outputs": [
    {
     "name": "stdout",
     "output_type": "stream",
     "text": [
      "<class 'netCDF4._netCDF4.Dataset'>\n",
      "root group (NETCDF4_CLASSIC data model, file format HDF5):\n",
      "    title: My data\n",
      "    subtitle: Monthly mean\n",
      "    author: RSHU\n",
      "    dimensions(sizes): \n",
      "    variables(dimensions): \n",
      "    groups: \n"
     ]
    }
   ],
   "source": [
    "from netCDF4 import Dataset\n",
    "import numpy as np\n",
    "\n",
    "# создаем объект(контейнер) с помощью Dataset в который нужно передать три параметра (аргумента) - \n",
    "# имя файла, режим и формат. 'w' - в данном режиме, если существует файл с похожим именем, \n",
    "# то хранящиеся данные будут стерты и запишутся новые данные.\n",
    "\n",
    "ncfile = Dataset('new.nc', mode = 'w', format = 'NETCDF4_CLASSIC')\n",
    "\n",
    "#### создание аттрибутов(аттрибуты - дополнительная информация, записывается по желанию создателя файла)\n",
    "\n",
    "ncfile.title = 'My data'\n",
    "ncfile.subtitle = 'Monthly mean'\n",
    "ncfile.author = 'RSHU'\n",
    "print(ncfile)"
   ]
  },
  {
   "cell_type": "code",
   "execution_count": 21,
   "metadata": {},
   "outputs": [
    {
     "name": "stdout",
     "output_type": "stream",
     "text": [
      "73\n"
     ]
    }
   ],
   "source": [
    "#### создание осей - dimensions(sizes)\n",
    "# укажем форму наших осей массива с помощью метода createDimension\n",
    "# У каждой оси есть имя(key) и длина(value). Обычно имя переменной это короткое обозначение. \n",
    "# эта информация записывается далее в словарь ncfile.dimensions\n",
    "\n",
    "lat_dim = ncfile.createDimension('lat', 73)   \n",
    "lon_dim = ncfile.createDimension('lon', 144)    \n",
    "time_dim = ncfile.createDimension('time', 100) \n",
    "\n",
    "print(len(lat_dim))\n",
    "\n",
    "# можно получить доступ к ключам и значениям словаря через\n",
    "# ncfile.dimensions.items() - к ключам и значениям\n",
    "# ncfile.dimensions.keys() - к ключам\n",
    "# ncfile.dimensions.value() - к значениям\n",
    "\n",
    "# for dim in ncfile.dimensions.items():\n",
    "#     print(dim)"
   ]
  },
  {
   "cell_type": "code",
   "execution_count": 22,
   "metadata": {},
   "outputs": [],
   "source": [
    "#### создание переменных - variables(dimensions):\n",
    "# каждой переменной соответсвует ее имя, тип данных, форма (форма определеяется как кортеж из названия осей)\n",
    "# переменные имеют аттрибуты, такие units(величина измерения), long_name (полное имя переменной)\n",
    "\n",
    "# метод createVariables принимает три обязательных аргумента:\n",
    "# - 1ый - название переменной (строка)\n",
    "# - 2ой - тип данных\n",
    "# - 3ий - кортеж, с названием оси (который должен быть уже создан)\n",
    "\n",
    "\n",
    "lat = ncfile.createVariable('lat', np.float32, ('lat',))\n",
    "lat.units = 'degrees_north'\n",
    "lat.long_name = 'latitude'\n",
    "\n",
    "lon = ncfile.createVariable('lon', np.float32, ('lon',))\n",
    "lon.units = 'degrees_east'\n",
    "lon.long_name = 'longitude'\n",
    "\n",
    "time = ncfile.createVariable('time', np.float64, ('time',))\n",
    "time.units = 'hours since 1800-01-01'\n",
    "time.long_name = 'time'\n",
    "\n",
    "# Объявляем 3х мерную переменную в которой будут записаны данные о температуре\n",
    "temp = ncfile.createVariable('temp',np.float64,('lat','lon', 'time')) \n",
    "temp.units = 'K' \n",
    "temp.standard_name = 'air_temperature' \n"
   ]
  },
  {
   "cell_type": "markdown",
   "metadata": {},
   "source": [
    "### Второй шаг - поместим данные в переменные lat, lon, time, temp!"
   ]
  },
  {
   "cell_type": "code",
   "execution_count": 23,
   "metadata": {},
   "outputs": [
    {
     "name": "stdout",
     "output_type": "stream",
     "text": [
      "[-90.        -87.53425   -85.0685    -82.60274   -80.136986  -77.671234\n",
      " -75.20548   -72.73972   -70.27397   -67.80822   -65.34247   -62.876713\n",
      " -60.410957  -57.945206  -55.47945   -53.0137    -50.547947  -48.08219\n",
      " -45.61644   -43.150684  -40.684933  -38.219177  -35.753426  -33.28767\n",
      " -30.821918  -28.356165  -25.890411  -23.424658  -20.958904  -18.49315\n",
      " -16.027397  -13.561644  -11.09589    -8.630137   -6.1643834  -3.69863\n",
      "  -1.2328767   1.2328767   3.69863     6.1643834   8.630137   11.09589\n",
      "  13.561644   16.027397   18.49315    20.958904   23.424658   25.890411\n",
      "  28.356165   30.821918   33.28767    35.753426   38.219177   40.684933\n",
      "  43.150684   45.61644    48.08219    50.547947   53.0137     55.47945\n",
      "  57.945206   60.410957   62.876713   65.34247    67.80822    70.27397\n",
      "  72.73972    75.20548    77.671234   80.136986   82.60274    85.0685\n",
      "  87.53425  ]\n"
     ]
    }
   ],
   "source": [
    " \n",
    "# определяем длину осей\n",
    "nlats = len(lat_dim)\n",
    "nlons = len(lon_dim)\n",
    "ntimes = len(time_dim)\n",
    "\n",
    "# заполняем переменную lat\n",
    "lat[:] = -90. + (180./nlats)*np.arange(nlats) # от южного к северному\n",
    "print(lat[:])\n",
    "\n",
    "# 73 значений широт, расстояние между соседними широтами 2.46575"
   ]
  },
  {
   "cell_type": "code",
   "execution_count": 24,
   "metadata": {},
   "outputs": [
    {
     "name": "stdout",
     "output_type": "stream",
     "text": [
      "Dataset is closed!\n"
     ]
    }
   ],
   "source": [
    "# заполняем переменные lon и time\n",
    "lon[:] = (180./nlons)*np.arange(nlons) # Greenwich meridian eastward\n",
    "time[:] = np.arange(ntimes)\n",
    "\n",
    "# создадим 3хмерный массив случайных чисел\n",
    "data_arr = np.random.uniform(low=280,high=330,size=(nlats,nlons,ntimes))\n",
    "\n",
    "# запишем данные в переменную temp\n",
    "temp[:,:,:] = data_arr \n",
    "\n",
    "# закрываем файл\n",
    "ncfile.close()\n",
    "print('Dataset is closed!')\n",
    "\n",
    "# Поздравляю вы записали данные в файл!"
   ]
  }
 ],
 "metadata": {
  "kernelspec": {
   "display_name": "Python 3",
   "language": "python",
   "name": "python3"
  },
  "language_info": {
   "codemirror_mode": {
    "name": "ipython",
    "version": 3
   },
   "file_extension": ".py",
   "mimetype": "text/x-python",
   "name": "python",
   "nbconvert_exporter": "python",
   "pygments_lexer": "ipython3",
   "version": "3.8.10"
  }
 },
 "nbformat": 4,
 "nbformat_minor": 4
}
