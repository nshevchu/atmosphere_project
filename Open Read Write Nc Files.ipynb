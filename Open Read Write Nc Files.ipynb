{
 "cells": [
  {
   "cell_type": "markdown",
   "metadata": {},
   "source": [
    "# Как работать с nc файлами?\n",
    "\n",
    "## Чтение из файла:\n",
    "**nc** - это формат файла для хранения многомерных метеорологических величин. Форма массива может зависеть от широты, долготы, высоты и  времени.  \n",
    "\n",
    "**netCDF4** -  специальный модуль для работы с файлами nc типа."
   ]
  },
  {
   "cell_type": "code",
   "execution_count": 28,
   "metadata": {},
   "outputs": [
    {
     "name": "stdout",
     "output_type": "stream",
     "text": [
      "{'lon': <class 'netCDF4._netCDF4.Dimension'>: name = 'lon', size = 1, 'lat': <class 'netCDF4._netCDF4.Dimension'>: name = 'lat', size = 36, 'lev': <class 'netCDF4._netCDF4.Dimension'>: name = 'lev', size = 17, 'time': <class 'netCDF4._netCDF4.Dimension'> (unlimited): name = 'time', size = 744}\n"
     ]
    }
   ],
   "source": [
    "# из модуля импортируем Dataset\n",
    "from netCDF4 import Dataset\n",
    "\n",
    "# создаем объект класса Dataset, в качестве аргумента передаем имя файла, открываем в режиме (mode) чтения ('r')\n",
    "# можно и не указывать режим при чтении, т.к. по умолчания он уже установлен.\n",
    "nc = Dataset('Uzon_month_1958_2019_jra.nc', mode = 'r')\n",
    "\n",
    "# теперь nc это объект/контейнер в котором содержится информация о многомерном массиве, \n",
    "# в частности о его размерности, название координатных осей, форма массива и т.д.\n",
    "\n",
    "# Информацию о размерностях массива можно посмотреть в словаре dimensions\n",
    "print(nc.dimensions)"
   ]
  },
  {
   "cell_type": "code",
   "execution_count": 36,
   "metadata": {},
   "outputs": [
    {
     "name": "stdout",
     "output_type": "stream",
     "text": [
      "Широты = [-87.5 -82.5 -77.5 -72.5 -67.5 -62.5 -57.5 -52.5 -47.5 -42.5 -37.5 -32.5\n",
      " -27.5 -22.5 -17.5 -12.5  -7.5  -2.5   2.5   7.5  12.5  17.5  22.5  27.5\n",
      "  32.5  37.5  42.5  47.5  52.5  57.5  62.5  67.5  72.5  77.5  82.5  87.5] \n",
      "\n",
      " Высоты = (array([ 1.421,  4.263,  7.105,  9.947, 12.789, 15.631, 18.473, 21.315,\n",
      "       24.157, 26.999, 29.841, 32.683, 35.525, 38.367, 41.209, 44.051,\n",
      "       46.893]),)\n"
     ]
    }
   ],
   "source": [
    "# для того чтобы создать переменную, которой будет передана информация о размерности массива \n",
    "# нужно знать ее имя. Например 'lat' это имя координат широт, а размер - 36 точек.\n",
    "# создадим с помощью numpy array переменную lat\n",
    "\n",
    "#импортируем numpy\n",
    "import numpy as np\n",
    "\n",
    "# передаем широтные координаты в lat\n",
    "lat = np.array(nc['lat'])\n",
    "\n",
    "# lev - высотные уровни\n",
    "lev = np.array(nc['lev']),\n",
    "\n",
    "# временная шкала\n",
    "time = np.array(nc['time'])\n",
    "print('Широты =', lat,'\\n\\n',\n",
    "      'Высоты =', lev)"
   ]
  },
  {
   "cell_type": "code",
   "execution_count": 37,
   "metadata": {},
   "outputs": [],
   "source": [
    "# подробную информацию в какой форме хранится информация в файле можно получить в словаре variables\n",
    "# nc.variables\n",
    "\n",
    "# здесь кроме информации о размерностях массива, можно узнать имя метеорологической величины,\n",
    "# имя записывается в кавычках 'uzon', uzon(time, lev, lat, lon) - в скобках указана очередность\n",
    "# размерностей массива, current shape = (744, 17, 36, 1).\n",
    "\n",
    "# переменная data это массив среднезональной скорости ветра. \n",
    "data = np.array(nc['uzon'])\n",
    "\n",
    "# файлы не всегда хранят одинаковую информацию, но можно подготовить\n",
    "# блок, который можно изменять под конкретный \n",
    "\n",
    "'''\n",
    "from netCDF4 import Dataset\n",
    "import numpy as np\n",
    "nc = Dataset('name.nc')\n",
    "data = np.array(nc['uzon'])\n",
    "lats = np.array(nc['lat'])\n",
    "levs = np.array(nc['lev'])\n",
    "time = np.array(nc['time'])\n",
    "'''\n",
    "nc.close()"
   ]
  },
  {
   "cell_type": "markdown",
   "metadata": {},
   "source": [
    "## Запись в файл:\n",
    "\n",
    "https://unidata.github.io/python-training/workshop/Bonus/netcdf-writing/\n",
    "ссылка на семинар"
   ]
  },
  {
   "cell_type": "code",
   "execution_count": 49,
   "metadata": {},
   "outputs": [
    {
     "name": "stdout",
     "output_type": "stream",
     "text": [
      "<class 'netCDF4._netCDF4.Dataset'>\n",
      "root group (NETCDF4_CLASSIC data model, file format HDF5):\n",
      "    title: My data\n",
      "    subtitle: Monthly mean\n",
      "    author: RSHU\n",
      "    dimensions(sizes): \n",
      "    variables(dimensions): \n",
      "    groups: \n"
     ]
    }
   ],
   "source": [
    "from netCDF4 import Dataset\n",
    "import numpy as np\n",
    "\n",
    "# создаем объект(контейнер) с помощью Dataset в который нужно передать три параметра (аргумента) - \n",
    "# имя файла, режим и формат. 'w' - в данном режиме, если существует файл с похожим именем, \n",
    "# то хранящиеся данные будут стерты и запишутся новые данные.\n",
    "\n",
    "ncfile = Dataset('new.nc', mode = 'w', format = 'NETCDF4_CLASSIC')\n",
    "\n",
    "# ncfile это пустой контейнер, в который постепенно мы будем добавлять информация.\n",
    "#### создание аттрибутов(аттрибуты - дополнительная информация, записывается по желанию создателя файла)\n",
    "\n",
    "ncfile.title = 'My data'\n",
    "ncfile.subtitle = 'Monthly mean'\n",
    "ncfile.author = 'RSHU'\n",
    "\n",
    "#Представьте что ncfile это пустая тетрадь -'new.nc'\n",
    "#Эту тетрадь мы будем использовать только для записи информации в нее (mode = 'w').\n",
    "#Подпишем эту тетрадь: укажем имя, для чего она предназначена- это и есть аттрибуты \n",
    "\n",
    "print(ncfile)"
   ]
  },
  {
   "cell_type": "code",
   "execution_count": 50,
   "metadata": {},
   "outputs": [
    {
     "name": "stdout",
     "output_type": "stream",
     "text": [
      "73\n"
     ]
    }
   ],
   "source": [
    "#### создание осей - dimensions(sizes)\n",
    "# укажем форму наших осей массива с помощью метода createDimension\n",
    "# У каждой оси есть имя(key) и длина(value). Обычно имя переменной это короткое обозначение. \n",
    "# эта информация записывается далее в словарь ncfile.dimensions\n",
    "\n",
    "lat_dim = ncfile.createDimension('lat', 73)   \n",
    "lon_dim = ncfile.createDimension('lon', 144)    \n",
    "time_dim = ncfile.createDimension('time', 100) \n",
    "\n",
    "print(len(lat_dim))\n",
    "\n",
    "# можно получить доступ к ключам и значениям словаря через\n",
    "# ncfile.dimensions.items() - к ключам и значениям\n",
    "# ncfile.dimensions.keys() - к ключам\n",
    "# ncfile.dimensions.value() - к значениям\n",
    "\n",
    "# for dim in ncfile.dimensions.items():\n",
    "#     print(dim)\n",
    "\n",
    "# Наша тетрадь все еще пустая, но мы уже запланировали что на каждой странице мы будем записывать часовые значения\n",
    "# и таких страниц будет 100. И еще на каждой странице мы будем рисовать таблицу состоящую \n",
    "# из 73 строк и 144 стоблцов. "
   ]
  },
  {
   "cell_type": "code",
   "execution_count": 51,
   "metadata": {},
   "outputs": [],
   "source": [
    "#### создание переменных - variables(dimensions):\n",
    "# каждой переменной соответсвует ее имя, тип данных, форма (форма определеяется как кортеж из названия осей)\n",
    "# переменные имеют аттрибуты, такие units(величина измерения), long_name (полное имя переменной)\n",
    "\n",
    "# метод createVariables принимает три обязательных аргумента:\n",
    "# - 1ый - название переменной (строка)\n",
    "# - 2ой - тип данных\n",
    "# - 3ий - кортеж, с названием оси (который должен быть уже создан)\n",
    "\n",
    "\n",
    "lat = ncfile.createVariable('lat', np.float32, ('lat',))\n",
    "lat.units = 'degrees_north'\n",
    "lat.long_name = 'latitude'\n",
    "\n",
    "lon = ncfile.createVariable('lon', np.float32, ('lon',))\n",
    "lon.units = 'degrees_east'\n",
    "lon.long_name = 'longitude'\n",
    "\n",
    "time = ncfile.createVariable('time', np.float64, ('time',))\n",
    "time.units = 'hours since 1800-01-01'\n",
    "time.long_name = 'time'\n",
    "\n",
    "# Объявляем 3х мерную переменную в которой будут записаны данные о температуре\n",
    "temp = ncfile.createVariable('temp',np.float64,('lat','lon', 'time')) \n",
    "temp.units = 'K' \n",
    "temp.standard_name = 'air_temperature' \n",
    "\n",
    "# Запишем где нибудь на краю страницы, более детальную информацию про размеры таблицы. \n",
    "# Назовем строки - 'lat', положению каждой строки будет соответствовать\n",
    "# какое то числовое значение так что 32 бита будет достаточно для его записи, указываем \n",
    "# запланированное количества строк через через имя оси ('lat',). \n",
    "\n",
    "# Теперь представим, что эта таблица представляет поверхность земли разбитую на квадраты. а строки и столбцы \n",
    "# это  широты и долготы.\n",
    "# На каждой странице на пересечений линий будут находится метеонаблюдатели, которые будут сообщают вам \n",
    "# значение температуры воздуха у поверхности земли каждый час. Но в каких координатах мы пока не знаем, \n",
    "# потому что еще не определили расстояние между широтами и долготами. \n",
    "# Опять же на краю страницы вы записываете эти детали.\n",
    "# На этом этапе во подготовили каркас, в котором пока неизвестно расстояние между линиями, и данные о температуре.\n"
   ]
  },
  {
   "cell_type": "code",
   "execution_count": 47,
   "metadata": {},
   "outputs": [
    {
     "name": "stdout",
     "output_type": "stream",
     "text": [
      "Dataset is closed!\n"
     ]
    }
   ],
   "source": [
    "# после создания переменных в них нужно поместить информацию \n",
    "# определяем длину осей\n",
    "nlats = len(lat_dim)\n",
    "nlons = len(lon_dim)\n",
    "ntimes = len(time_dim)\n",
    "\n",
    "# заполняем переменные lat, lon, time значениями\n",
    "lat[:] = -90. + (180./nlats)*np.arange(nlats) # от южного к северному\n",
    "lon[:] = (180./nlons)*np.arange(nlons) # Greenwich meridian eastward\n",
    "time[:] = np.arange(ntimes)\n",
    "\n",
    "# создадим 3хмерный массив случайных чисел\n",
    "data_arr = np.random.uniform(low=280,high=330,size=(nlats,nlons,ntimes))\n",
    "\n",
    "# запишем данные в переменную temp\n",
    "temp[:,:,:] = data_arr \n",
    "\n",
    "# закрыть файл\n",
    "ncfile.close()\n",
    "print('Dataset is closed!')\n",
    "\n",
    "# Здесь мы установили шаг между строками и столбцами, метеоналюдатели находятся в \n",
    "# определенных координатах по широте и долготе и сообщают вам измеряемые значения. А вы все это записываете в тетрадь\n",
    "# Чтобы получить доступ к данным температуры вам нужно обратиться в переменной temp.\n",
    "\n",
    "# Дальше будет только интереснее и легче!"
   ]
  },
  {
   "cell_type": "code",
   "execution_count": 17,
   "metadata": {},
   "outputs": [
    {
     "data": {
      "text/plain": [
       "\"\\nncfile = Dataset('new.nc', mode = 'w', format = 'NETCDF4_CLASSIC')\\n\\n# размерности осей\\nlat_dim = ncfile.createDimension('lat', 73)   \\nlon_dim = ncfile.createDimension('lon', 144)    \\ntime_dim = ncfile.createDimension('time', 100) \\n\\n# cоздание переменных\\nlat = ncfile.createVariable('lat', np.float32, ('lat',))\\nlat.units = 'degrees_north'\\nlat.long_name = 'latitude'\\n\\nlon = ncfile.createVariable('lon', np.float32, ('lon',))\\nlon.units = 'degrees_east'\\nlon.long_name = 'longitude'\\n\\ntime = ncfile.createVariable('time', np.float64, ('time',))\\ntime.units = 'hours since 1800-01-01'\\ntime.long_name = 'time'\\n\\ntemp = ncfile.createVariable('temp',np.float64,('lat','lon', 'time')) \\ntemp.units = 'K' \\ntemp.standard_name = 'air_temperature' \\n\\n# запись данных\\nnlats = len(lat_dim); nlons = len(lon_dim); ntimes = len(time_dim)\\nlat[:] = -90. + (180./nlats)*np.arange(nlats) # от южного к северному\\nlon[:] = (180./nlons)*np.arange(nlons) # Greenwich meridian eastward\\ntime[:] = np.arange(ntimes)\\n# temp[:,:,:] = массив данных\\n\\n# закрыть файл\\nncfile.close(); print('Dataset is closed!')\\n\""
      ]
     },
     "execution_count": 17,
     "metadata": {},
     "output_type": "execute_result"
    }
   ],
   "source": [
    "\n",
    "'''\n",
    "ncfile = Dataset('new.nc', mode = 'w', format = 'NETCDF4_CLASSIC')\n",
    "\n",
    "# размерности осей\n",
    "lat_dim = ncfile.createDimension('lat', 73)   \n",
    "lon_dim = ncfile.createDimension('lon', 144)    \n",
    "time_dim = ncfile.createDimension('time', 100) \n",
    "\n",
    "# cоздание переменных\n",
    "lat = ncfile.createVariable('lat', np.float32, ('lat',))\n",
    "lat.units = 'degrees_north'\n",
    "lat.long_name = 'latitude'\n",
    "\n",
    "lon = ncfile.createVariable('lon', np.float32, ('lon',))\n",
    "lon.units = 'degrees_east'\n",
    "lon.long_name = 'longitude'\n",
    "\n",
    "time = ncfile.createVariable('time', np.float64, ('time',))\n",
    "time.units = 'hours since 1800-01-01'\n",
    "time.long_name = 'time'\n",
    "\n",
    "temp = ncfile.createVariable('temp',np.float64,('lat','lon', 'time')) \n",
    "temp.units = 'K' \n",
    "temp.standard_name = 'air_temperature' \n",
    "\n",
    "# запись данных\n",
    "nlats = len(lat_dim); nlons = len(lon_dim); ntimes = len(time_dim)\n",
    "lat[:] = -90. + (180./nlats)*np.arange(nlats) # от южного к северному\n",
    "lon[:] = (180./nlons)*np.arange(nlons) # Greenwich meridian eastward\n",
    "time[:] = np.arange(ntimes)\n",
    "# temp[:,:,:] = массив данных\n",
    "\n",
    "# закрыть файл\n",
    "ncfile.close(); print('Dataset is closed!')\n",
    "'''"
   ]
  },
  {
   "cell_type": "code",
   "execution_count": null,
   "metadata": {},
   "outputs": [],
   "source": []
  }
 ],
 "metadata": {
  "kernelspec": {
   "display_name": "Python 3",
   "language": "python",
   "name": "python3"
  },
  "language_info": {
   "codemirror_mode": {
    "name": "ipython",
    "version": 3
   },
   "file_extension": ".py",
   "mimetype": "text/x-python",
   "name": "python",
   "nbconvert_exporter": "python",
   "pygments_lexer": "ipython3",
   "version": "3.8.10"
  }
 },
 "nbformat": 4,
 "nbformat_minor": 4
}
